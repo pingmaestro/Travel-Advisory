{
 "cells": [
  {
   "cell_type": "code",
   "execution_count": 59,
   "id": "d6e92682-88b7-49d3-99c9-c5bce9565726",
   "metadata": {},
   "outputs": [
    {
     "name": "stdout",
     "output_type": "stream",
     "text": [
      "Page fetched successfully!\n",
      "Page title: Travel advice and advisories - Travel.gc.ca\n",
      "Data exported to 'travel_advisories.csv' successfully.\n"
     ]
    }
   ],
   "source": [
    "import requests\n",
    "from bs4 import BeautifulSoup\n",
    "import pandas as pd\n",
    "from datetime import datetime\n",
    "\n",
    "url = \"https://travel.gc.ca/travelling/advisories\"\n",
    "response = requests.get(url)\n",
    "\n",
    "if response.status_code == 200:\n",
    "    print(\"Page fetched successfully!\")\n",
    "\n",
    "    soup = BeautifulSoup(response.content, \"html.parser\")\n",
    "\n",
    "    page_title = soup.title.text\n",
    "    print(f\"Page title: {page_title}\")\n",
    "\n",
    "    advisory_rows = soup.find_all(\"tr\")\n",
    "    \n",
    "    advisories = []\n",
    "    \n",
    "    # Loop through each row and extract relevant columns\n",
    "    for row in advisory_rows:\n",
    "        columns = row.find_all(\"td\")\n",
    "        \n",
    "        if len(columns) >= 4:\n",
    "            destination = columns[1].find(\"a\").text.strip() \n",
    "\n",
    "            anchor_tag = columns[1].find(\"a\")\n",
    "            if anchor_tag and \"href\" in anchor_tag.attrs:\n",
    "                slug_url = anchor_tag[\"href\"].strip()\n",
    "            else:\n",
    "                slug_url = \"\"\n",
    "            \n",
    "            risk_level = columns[2].find(\"div\").text.strip()\n",
    "            last_updated = columns[3].text.strip()\n",
    "        \n",
    "            advisories.append({\n",
    "                \"Destination\": destination,\n",
    "                \"URL\": slug_url,\n",
    "                \"Risk Level\": risk_level,\n",
    "                \"Last Updated\": last_updated\n",
    "            })\n",
    "\n",
    "    df = pd.DataFrame(advisories)\n",
    "\n",
    "    df.to_csv(\"travel_advirories_final.csv\", index=False, encoding=\"utf-8-sig\")\n",
    "\n",
    "    print(\"Data exported to 'travel_advisories.csv' successfully.\")\n",
    "else:\n",
    "    print(f\"Failed to retrieve the page. Status code : {response.status_code}\")"
   ]
  }
 ],
 "metadata": {
  "kernelspec": {
   "display_name": "Python 3 (ipykernel)",
   "language": "python",
   "name": "python3"
  },
  "language_info": {
   "codemirror_mode": {
    "name": "ipython",
    "version": 3
   },
   "file_extension": ".py",
   "mimetype": "text/x-python",
   "name": "python",
   "nbconvert_exporter": "python",
   "pygments_lexer": "ipython3",
   "version": "3.12.4"
  }
 },
 "nbformat": 4,
 "nbformat_minor": 5
}
